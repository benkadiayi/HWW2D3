{
 "cells": [
  {
   "cell_type": "code",
   "execution_count": null,
   "id": "04c957ef",
   "metadata": {},
   "outputs": [],
   "source": [
    "# 1) Build a Shopping Cart\n",
    "# You can use either lists or dictionaries. The program should have the following capabilities:\n",
    "\n",
    "from IPython.display import clear_output\n",
    "\n",
    "# Ask the user four bits of input: Do you want to : Show/Add/Delete or Quit?\n",
    "list = []\n",
    "active = True\n",
    "prompt = (\"Here are your option:\\n-Type any product to be added on your list\\n-Type 'del' to delete any existing item on your list\\n-Type 'quit' to stop and see your final list\")\n",
    "prompt += (\"\\nWhat can i do for you? \")\n",
    "print(prompt)\n",
    "while active:\n",
    "    item = input(\"what can i do for you? \")\n",
    "    if item == 'quit':\n",
    "        print(f'\\nHere is your final list {list}')\n",
    "        active = False\n",
    "    elif item == 'del':\n",
    "        delitem = input('which item would you like to delete')\n",
    "        list.remove(delitem)\n",
    "        print(f'\\nHere is your updated list {list}')\n",
    "    else:\n",
    "        list.append(item)\n",
    "        print(f'\\nHere is your current list {list}')\n",
    "   "
   ]
  },
  {
   "cell_type": "code",
   "execution_count": 2,
   "id": "8c9be935",
   "metadata": {},
   "outputs": [
    {
     "name": "stdout",
     "output_type": "stream",
     "text": [
      "The circumference of your circle is 18.84feet\n",
      "Your area is 1530square foot\n"
     ]
    },
    {
     "data": {
      "text/plain": [
       "<md.area at 0x7fd2d8c9ca60>"
      ]
     },
     "execution_count": 2,
     "metadata": {},
     "output_type": "execute_result"
    }
   ],
   "source": [
    "# 2) Create a Module in VS Code and Import It into jupyter notebook\n",
    "\n",
    "import md\n",
    "\n",
    "md.circumference(3)\n",
    "\n",
    "md.area(34,45)"
   ]
  }
 ],
 "metadata": {
  "kernelspec": {
   "display_name": "Python 3",
   "language": "python",
   "name": "python3"
  },
  "language_info": {
   "codemirror_mode": {
    "name": "ipython",
    "version": 3
   },
   "file_extension": ".py",
   "mimetype": "text/x-python",
   "name": "python",
   "nbconvert_exporter": "python",
   "pygments_lexer": "ipython3",
   "version": "3.8.8"
  }
 },
 "nbformat": 4,
 "nbformat_minor": 5
}
